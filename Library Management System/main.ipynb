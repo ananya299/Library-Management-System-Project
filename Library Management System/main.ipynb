{
 "cells": [
  {
   "cell_type": "code",
   "execution_count": 1,
   "metadata": {
    "scrolled": false
   },
   "outputs": [
    {
     "name": "stdout",
     "output_type": "stream",
     "text": [
      " ======LIBRARY MANAGEMENT SYSTEM=======\n",
      "                  1. ADMIN\n",
      "                  2. FACULTY\n",
      "                  3. STUDENT\n",
      "                  4. Exit\n",
      "                  \n",
      "Enter choice: 1\n",
      "Enter Password:\n",
      "········\n",
      "Welcome User\n",
      "\n",
      "Select any one: \n",
      "1. Add Student\n",
      "2. Display all Students\n",
      "3. Add Faculty\n",
      "4. Display all Faculties\n",
      "5. Add Book\n",
      "6. Show all Books\n",
      "7. Remove Student\n",
      "8. Remove Faculty\n",
      "9. Search Student \n",
      "10. Search Faculty\n",
      "11. Search Book\n",
      "12. Issue Book Student\n",
      "13. Issue Book Faculty\n",
      "14. Return Book Student\n",
      "15. Return Book Faculty\n",
      "16. Display Student Records\n",
      "17. Display Faculty Records\n",
      "18. EXIT\n",
      "**************************\n",
      "**************************\n",
      "2\n",
      "Name: Ananya Saxena,\n",
      "Roll no: 0187CS171025\n",
      "**\n",
      "Name: Bhoomika Khoobchandani,\n",
      "Roll no: 0187CS171048\n",
      "**\n",
      "Name: Ana Baig,\n",
      "Roll no: 0187CS171023\n",
      "**\n",
      " ======LIBRARY MANAGEMENT SYSTEM=======\n",
      "                  1. ADMIN\n",
      "                  2. FACULTY\n",
      "                  3. STUDENT\n",
      "                  4. Exit\n",
      "                  \n",
      "Enter choice: 4\n"
     ]
    },
    {
     "ename": "SystemExit",
     "evalue": "0",
     "output_type": "error",
     "traceback": [
      "An exception has occurred, use %tb to see the full traceback.\n",
      "\u001b[1;31mSystemExit\u001b[0m\u001b[1;31m:\u001b[0m 0\n"
     ]
    },
    {
     "name": "stderr",
     "output_type": "stream",
     "text": [
      "C:\\Program Data 2\\lib\\site-packages\\IPython\\core\\interactiveshell.py:3275: UserWarning: To exit: use 'exit', 'quit', or Ctrl-D.\n",
      "  warn(\"To exit: use 'exit', 'quit', or Ctrl-D.\", stacklevel=1)\n"
     ]
    }
   ],
   "source": [
    "import frontend"
   ]
  },
  {
   "cell_type": "code",
   "execution_count": null,
   "metadata": {},
   "outputs": [],
   "source": []
  }
 ],
 "metadata": {
  "kernelspec": {
   "display_name": "Python 3",
   "language": "python",
   "name": "python3"
  },
  "language_info": {
   "codemirror_mode": {
    "name": "ipython",
    "version": 3
   },
   "file_extension": ".py",
   "mimetype": "text/x-python",
   "name": "python",
   "nbconvert_exporter": "python",
   "pygments_lexer": "ipython3",
   "version": "3.7.1"
  }
 },
 "nbformat": 4,
 "nbformat_minor": 2
}
