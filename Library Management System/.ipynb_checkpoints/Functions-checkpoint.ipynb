{
 "cells": [
  {
   "cell_type": "code",
   "execution_count": 5,
   "metadata": {},
   "outputs": [],
   "source": [
    "from methods import *"
   ]
  },
  {
   "cell_type": "code",
   "execution_count": 3,
   "metadata": {},
   "outputs": [],
   "source": [
    "import pickle\n",
    "l=[]\n",
    "with open(\"student_data.pkl\",'wb') as f: \n",
    "    pickle.dump(l,f)"
   ]
  },
  {
   "cell_type": "code",
   "execution_count": 5,
   "metadata": {},
   "outputs": [],
   "source": [
    "import pickle\n",
    "l=[]\n",
    "with open(\"faculty_data.pkl\",'wb') as f: \n",
    "    pickle.dump(l,f)"
   ]
  },
  {
   "cell_type": "code",
   "execution_count": 4,
   "metadata": {},
   "outputs": [],
   "source": [
    "import pickle\n",
    "l=[]\n",
    "with open(\"Book_data.pkl\",'wb') as f: \n",
    "    pickle.dump(l,f)"
   ]
  },
  {
   "cell_type": "code",
   "execution_count": 2,
   "metadata": {},
   "outputs": [
    {
     "name": "stdout",
     "output_type": "stream",
     "text": [
      "Enter student name: Ana Baig\n",
      "Enter year of admission: 2017\n",
      "Student id number: 023\n",
      "Select one-\n",
      "1.CSE\n",
      "2.EC\n",
      "3.EX\n",
      "4.ME\n",
      "5.CE\n",
      "1\n"
     ]
    }
   ],
   "source": [
    "addStudent()"
   ]
  },
  {
   "cell_type": "code",
   "execution_count": 3,
   "metadata": {},
   "outputs": [
    {
     "name": "stdout",
     "output_type": "stream",
     "text": [
      "Name: Ananya Saxena,\n",
      "Roll no: 0187CS171025\n",
      "**\n",
      "Name: Bhoomika Khoobchandani,\n",
      "Roll no: 0187CS171048\n",
      "**\n",
      "Name: Ana Baig,\n",
      "Roll no: 0187CS171023\n",
      "**\n"
     ]
    }
   ],
   "source": [
    "showStudents()"
   ]
  },
  {
   "cell_type": "code",
   "execution_count": 3,
   "metadata": {},
   "outputs": [
    {
     "name": "stdout",
     "output_type": "stream",
     "text": [
      "Enter Faculty name: aaa\n",
      "Enter Faculty Id: 25\n"
     ]
    }
   ],
   "source": [
    "addFaculty()"
   ]
  },
  {
   "cell_type": "code",
   "execution_count": 4,
   "metadata": {},
   "outputs": [
    {
     "name": "stdout",
     "output_type": "stream",
     "text": [
      "Faculty Name: Abc,\n",
      "Faculty ID: 112\n",
      "**\n",
      "Faculty Name: Pqr,\n",
      "Faculty ID: 113\n",
      "**\n",
      "Faculty Name: xyz,\n",
      "Faculty ID: 22\n",
      "**\n"
     ]
    }
   ],
   "source": [
    "showFaculties()"
   ]
  },
  {
   "cell_type": "code",
   "execution_count": 7,
   "metadata": {
    "scrolled": true
   },
   "outputs": [
    {
     "name": "stdout",
     "output_type": "stream",
     "text": [
      "Enter name of the book: Theory Of everything\n",
      "Number of copies: 22\n",
      "Enter ISBN number: 1212\n"
     ]
    }
   ],
   "source": [
    "addBook()"
   ]
  },
  {
   "cell_type": "code",
   "execution_count": 4,
   "metadata": {},
   "outputs": [
    {
     "name": "stdout",
     "output_type": "stream",
     "text": [
      "Title: The Grand Design ,\n",
      " Number of copies: 19,\n",
      " ISBN: 1111\n",
      "**\n",
      "Title: Theory Of everything,\n",
      " Number of copies: 20,\n",
      " ISBN: 1212\n",
      "**\n"
     ]
    }
   ],
   "source": [
    "showBook()"
   ]
  },
  {
   "cell_type": "code",
   "execution_count": 6,
   "metadata": {},
   "outputs": [
    {
     "name": "stdout",
     "output_type": "stream",
     "text": [
      "Enter enrollment number: 0187CS171048\n",
      "Title: The Grand Design ,\n",
      " Number of copies: 8,\n",
      " ISBN: 1111\n",
      "**\n",
      "Title: Theory Of everything,\n",
      " Number of copies: 8,\n",
      " ISBN: 1212\n",
      "**\n",
      "Title: Black Holes and Baby Universes,\n",
      " Number of copies: 14,\n",
      " ISBN: 1467\n",
      "**\n",
      "Title: The Brief History Of Time,\n",
      " Number of copies: 26,\n",
      " ISBN: 3456\n",
      "**\n",
      "Title: Reith Lectures: Black Holes and Baby Universes,\n",
      " Number of copies: 46,\n",
      " ISBN: 6767\n",
      "**\n",
      "Enter ISBN of required book: 3456\n",
      "{'0187CS171025': 1111, '0187CS171048': 3456}\n"
     ]
    }
   ],
   "source": [
    "Book_issue_S(issue_S)"
   ]
  },
  {
   "cell_type": "code",
   "execution_count": 4,
   "metadata": {},
   "outputs": [
    {
     "name": "stdout",
     "output_type": "stream",
     "text": [
      "Title: The Grand Design ,\n",
      " Number of copies: 9,\n",
      " ISBN: 1111\n",
      "**\n",
      "Title: Theory Of everything,\n",
      " Number of copies: 8,\n",
      " ISBN: 1212\n",
      "**\n",
      "Title: Black Holes and Baby Universes,\n",
      " Number of copies: 16,\n",
      " ISBN: 1467\n",
      "**\n",
      "Title: The Brief History Of Time,\n",
      " Number of copies: 30,\n",
      " ISBN: 3456\n",
      "**\n",
      "Title: Reith Lectures: Black Holes and Baby Universes,\n",
      " Number of copies: 53,\n",
      " ISBN: 6767\n",
      "**\n"
     ]
    }
   ],
   "source": [
    "showBook()"
   ]
  },
  {
   "cell_type": "code",
   "execution_count": 3,
   "metadata": {},
   "outputs": [
    {
     "name": "stdout",
     "output_type": "stream",
     "text": [
      "Enter Employee ID: 25\n",
      "Title: The Grand Design ,\n",
      " Number of copies: 9,\n",
      " ISBN: 1111\n",
      "**\n",
      "Title: Theory Of everything,\n",
      " Number of copies: 9,\n",
      " ISBN: 1212\n",
      "**\n",
      "Title: Black Holes and Baby Universes,\n",
      " Number of copies: 16,\n",
      " ISBN: 1467\n",
      "**\n",
      "Enter ISBN of required book: 1212\n"
     ]
    }
   ],
   "source": [
    "Book_issue_F(issued_fbooks,issued_fid)"
   ]
  },
  {
   "cell_type": "code",
   "execution_count": 12,
   "metadata": {},
   "outputs": [
    {
     "name": "stdout",
     "output_type": "stream",
     "text": [
      "Enter enrollment number: 0187CS171025\n",
      "Title: The Grand Design ,\n",
      " Number of copies: 9,\n",
      " ISBN: 1111\n",
      "**\n",
      "Title: Theory Of everything,\n",
      " Number of copies: 7,\n",
      " ISBN: 1212\n",
      "**\n",
      "Title: Black Holes and Baby Universes,\n",
      " Number of copies: 16,\n",
      " ISBN: 1467\n",
      "**\n",
      "Enter ISBN of book to be returned: 1212\n"
     ]
    }
   ],
   "source": [
    "return_book_S(issued_books,issued_rolls)"
   ]
  },
  {
   "cell_type": "code",
   "execution_count": 13,
   "metadata": {},
   "outputs": [
    {
     "name": "stdout",
     "output_type": "stream",
     "text": [
      "Title: The Grand Design ,\n",
      " Number of copies: 9,\n",
      " ISBN: 1111\n",
      "**\n",
      "Title: Theory Of everything,\n",
      " Number of copies: 8,\n",
      " ISBN: 1212\n",
      "**\n",
      "Title: Black Holes and Baby Universes,\n",
      " Number of copies: 16,\n",
      " ISBN: 1467\n",
      "**\n"
     ]
    }
   ],
   "source": [
    "showBook()"
   ]
  },
  {
   "cell_type": "code",
   "execution_count": null,
   "metadata": {},
   "outputs": [
    {
     "name": "stdout",
     "output_type": "stream",
     "text": [
      "Enter Employee ID: 25\n",
      "Title: The Grand Design ,\n",
      " Number of copies: 15,\n",
      " ISBN: 1111\n",
      "**\n",
      "Title: Theory Of everything,\n",
      " Number of copies: 18,\n",
      " ISBN: 1212\n",
      "**\n",
      "Title: Black Holes and Baby Universes,\n",
      " Number of copies: 23,\n",
      " ISBN: 1467\n",
      "**\n"
     ]
    }
   ],
   "source": [
    "return_book_F()"
   ]
  },
  {
   "cell_type": "code",
   "execution_count": null,
   "metadata": {},
   "outputs": [],
   "source": []
  },
  {
   "cell_type": "code",
   "execution_count": 3,
   "metadata": {},
   "outputs": [
    {
     "name": "stdout",
     "output_type": "stream",
     "text": [
      "Enter roll no.: sdfgnmk852\n",
      "Student not Found\n"
     ]
    }
   ],
   "source": [
    "search_S()"
   ]
  },
  {
   "cell_type": "code",
   "execution_count": 3,
   "metadata": {},
   "outputs": [
    {
     "name": "stdout",
     "output_type": "stream",
     "text": [
      "Enter Faculty ID: 26\n",
      "Faculty not Found\n"
     ]
    }
   ],
   "source": [
    "search_F()"
   ]
  },
  {
   "cell_type": "code",
   "execution_count": 3,
   "metadata": {},
   "outputs": [
    {
     "name": "stdout",
     "output_type": "stream",
     "text": [
      "Enter Book ISBN: 0011\n",
      "Book not Found\n"
     ]
    }
   ],
   "source": [
    "search_B()"
   ]
  },
  {
   "cell_type": "code",
   "execution_count": 4,
   "metadata": {},
   "outputs": [
    {
     "name": "stdout",
     "output_type": "stream",
     "text": [
      "Enter Emlpoyee ID: 25\n",
      "Faculty Name: aaa,\n",
      "Faculty ID: 25\n",
      "**\n",
      "Book Issued (ISBN): 1467\n",
      "Book Issued (ISBN): 1212\n"
     ]
    }
   ],
   "source": [
    "display_records_F(issued_fbooks,issued_fid)"
   ]
  },
  {
   "cell_type": "code",
   "execution_count": 2,
   "metadata": {},
   "outputs": [
    {
     "name": "stdout",
     "output_type": "stream",
     "text": [
      "Enter roll no.: 0187CS181097\n",
      "Student removed\n",
      "Name: Abc,\n",
      "Roll no: 0187CS181097\n",
      "**\n"
     ]
    }
   ],
   "source": [
    "remove_S()"
   ]
  },
  {
   "cell_type": "code",
   "execution_count": 3,
   "metadata": {},
   "outputs": [
    {
     "name": "stdout",
     "output_type": "stream",
     "text": [
      "Name: Ananya Saxena,\n",
      "Roll no: 0187CS171025\n",
      "**\n",
      "Name: Bhoomika Khoobchandani,\n",
      "Roll no: 0187CS171048\n",
      "**\n"
     ]
    }
   ],
   "source": [
    "showStudents()"
   ]
  },
  {
   "cell_type": "code",
   "execution_count": 2,
   "metadata": {},
   "outputs": [
    {
     "name": "stdout",
     "output_type": "stream",
     "text": [
      "Enter Employee ID: 25\n",
      "Faculty removed\n",
      "Faculty Name: aaa,\n",
      "Faculty ID: 25\n",
      "**\n"
     ]
    }
   ],
   "source": [
    "remove_F()"
   ]
  },
  {
   "cell_type": "code",
   "execution_count": 3,
   "metadata": {},
   "outputs": [
    {
     "name": "stdout",
     "output_type": "stream",
     "text": [
      "Faculty Name: Abc,\n",
      "Faculty ID: 112\n",
      "**\n",
      "Faculty Name: Pqr,\n",
      "Faculty ID: 113\n",
      "**\n",
      "Faculty Name: xyz,\n",
      "Faculty ID: 22\n",
      "**\n"
     ]
    }
   ],
   "source": [
    "showFaculties()"
   ]
  },
  {
   "cell_type": "code",
   "execution_count": null,
   "metadata": {},
   "outputs": [],
   "source": []
  }
 ],
 "metadata": {
  "kernelspec": {
   "display_name": "Python 3",
   "language": "python",
   "name": "python3"
  },
  "language_info": {
   "codemirror_mode": {
    "name": "ipython",
    "version": 3
   },
   "file_extension": ".py",
   "mimetype": "text/x-python",
   "name": "python",
   "nbconvert_exporter": "python",
   "pygments_lexer": "ipython3",
   "version": "3.7.1"
  }
 },
 "nbformat": 4,
 "nbformat_minor": 2
}
